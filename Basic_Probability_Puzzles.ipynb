{
  "nbformat": 4,
  "nbformat_minor": 0,
  "metadata": {
    "colab": {
      "provenance": []
    },
    "kernelspec": {
      "name": "python3",
      "display_name": "Python 3"
    },
    "language_info": {
      "name": "python"
    }
  },
  "cells": [
    {
      "cell_type": "code",
      "execution_count": 1,
      "metadata": {
        "colab": {
          "base_uri": "https://localhost:8080/"
        },
        "id": "SpYVTHVMETtU",
        "outputId": "7028037d-fe29-416c-f2c1-906d53cf0615"
      },
      "outputs": [
        {
          "output_type": "stream",
          "name": "stdout",
          "text": [
            "29/63\n"
          ]
        }
      ],
      "source": [
        "import math\n",
        "\n",
        "def gcd(a, b):\n",
        "    while b:\n",
        "        a, b = b, a % b\n",
        "    return a\n",
        "\n",
        "def calculate_probability(W1, B1, W2, B2):\n",
        "    numerator = W1 * B2 + B1 * (B2 + 1)\n",
        "    denominator = (W1 + B1) * (W2 + B2 + 1)\n",
        "\n",
        "\n",
        "    # Reduce the fraction to its irreducible form\n",
        "    common_divisor = gcd(numerator, denominator)\n",
        "    numerator //= common_divisor\n",
        "    denominator //= common_divisor\n",
        "    return numerator, denominator\n",
        "\n",
        "# Take inputs from the user\n",
        "try:\n",
        "    W1 = 5\n",
        "    B1 = 4\n",
        "    W2 = 7\n",
        "    B2 = 6\n",
        "\n",
        "    # Ensure the input values are non-negative\n",
        "    if W1 < 0 or B1 < 0 or W2 < 0 or B2 < 0:\n",
        "        raise ValueError(\"Number of balls cannot be negative.\")\n",
        "\n",
        "    # Calculate the probability\n",
        "    numerator, denominator = calculate_probability(W1, B1, W2, B2)\n",
        "\n",
        "    # Print the probability in the format a/b\n",
        "    print(f\"{numerator}/{denominator}\")\n",
        "\n",
        "except ValueError as e:\n",
        "    print(f\"Invalid input: {e}\")\n"
      ]
    }
  ]
}